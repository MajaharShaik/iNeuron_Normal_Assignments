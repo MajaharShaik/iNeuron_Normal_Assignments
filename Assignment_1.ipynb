{
 "cells": [
  {
   "cell_type": "markdown",
   "id": "b3bb6558",
   "metadata": {},
   "source": [
    "##### 1. In the below elements which of them are values or an expression? eg:- values can be\n",
    "##### integer or string and expressions will be mathematical operators.\n",
    "##### *\n",
    "##### &#39;hello&#39;\n",
    "##### -87.8\n",
    "##### -\n",
    "##### /\n",
    "##### +\n",
    "##### 6"
   ]
  },
  {
   "cell_type": "markdown",
   "id": "50286395",
   "metadata": {},
   "source": [
    "### Answer\n",
    "\n",
    "###### *      \n",
    "- It is a expression(MUltiplication operator)\n",
    "\n",
    "###### 'hello' \n",
    "- It is a value(String)\n",
    "\n",
    "###### -87.8   \n",
    "- It is a value(Floating point)\n",
    "\n",
    "###### - \n",
    "- It is a expression(Subtraction)\n",
    "\n",
    "###### /    \n",
    "- It is a expression(Division)\n",
    "\n",
    "###### +    \n",
    "- It is a expression(Addition)\n",
    "\n",
    "###### 6  \n",
    "- It is a value(interger)\n"
   ]
  },
  {
   "cell_type": "markdown",
   "id": "d1f79e38",
   "metadata": {},
   "source": [
    "##### \n",
    "##### 2. What is the difference between string and variable?"
   ]
  },
  {
   "cell_type": "markdown",
   "id": "08e8109c",
   "metadata": {},
   "source": [
    "### String\n",
    "- String is a collection of charecters \n",
    "- which are enclosed with a single quotes ('') or double quotes (\"\")\n",
    "- there is a multiline string also we can call it as a doc string which is enclosed with triple singel or double quotes"
   ]
  },
  {
   "cell_type": "code",
   "execution_count": 2,
   "id": "d9ffb944",
   "metadata": {},
   "outputs": [
    {
     "name": "stdout",
     "output_type": "stream",
     "text": [
      "iNeuron\n",
      "This is iNeuron and \n",
      "It is datascience course\n"
     ]
    }
   ],
   "source": [
    "#Example\n",
    "a='iNeuron'\n",
    "print(a)\n",
    "b='''This is iNeuron and \n",
    "It is datascience course'''\n",
    "print(b)"
   ]
  },
  {
   "cell_type": "markdown",
   "id": "ab04bf4b",
   "metadata": {},
   "source": [
    "### variable\n",
    "- variable which is used to store the data in it. Variable points to a memory location where the data is stored.\n",
    "- Rules for creating variables\n",
    "    - It can be only one word with no spaces.\n",
    "    - It can use only letters, numbers, and the underscore (_) character.\n",
    "    - It cannot begin with a number."
   ]
  },
  {
   "cell_type": "code",
   "execution_count": 3,
   "id": "3d123aaa",
   "metadata": {},
   "outputs": [
    {
     "name": "stdout",
     "output_type": "stream",
     "text": [
      "10\n",
      "20\n"
     ]
    }
   ],
   "source": [
    "#example\n",
    "a=10\n",
    "print(a)\n",
    "majju_10=20\n",
    "print(majju_10)"
   ]
  },
  {
   "cell_type": "markdown",
   "id": "121c65a0",
   "metadata": {},
   "source": [
    "##### \n",
    "##### 3. Describe three different data types."
   ]
  },
  {
   "cell_type": "markdown",
   "id": "498736ef",
   "metadata": {},
   "source": [
    "#### Integer\n",
    "- A number which contain whole numbers without any fractional part\n",
    "\n",
    "#### Float\n",
    "- A number which contain fractional part\n",
    "\n",
    "#### String\n",
    "- It is a group of charecters"
   ]
  },
  {
   "cell_type": "code",
   "execution_count": 4,
   "id": "75aa6959",
   "metadata": {},
   "outputs": [
    {
     "name": "stdout",
     "output_type": "stream",
     "text": [
      "10\n",
      "10.23\n",
      "iNeuron\n"
     ]
    }
   ],
   "source": [
    "#Example\n",
    "#integer\n",
    "a=10\n",
    "print(a)\n",
    "#float\n",
    "b=10.23\n",
    "print(b)\n",
    "#string\n",
    "c=\"iNeuron\"\n",
    "print(c)"
   ]
  },
  {
   "cell_type": "markdown",
   "id": "b8b25718",
   "metadata": {},
   "source": [
    "##### \n",
    "##### 4. What is an expression made up of? What do all expressions do?"
   ]
  },
  {
   "cell_type": "markdown",
   "id": "46e00e70",
   "metadata": {},
   "source": [
    "- Expression is made up of operands and operatores\n",
    "    - for example\n",
    "        - a+b*c\n",
    "            - here a,b,c are operands and +,* are operators\n",
    "          \n",
    "          \n",
    "- It evaluates and find the final ans"
   ]
  },
  {
   "cell_type": "markdown",
   "id": "da4db130",
   "metadata": {},
   "source": [
    "##### 5. This assignment statements, like spam = 10. What is the difference between an\n",
    "##### expression and a statement?"
   ]
  },
  {
   "cell_type": "markdown",
   "id": "d602d155",
   "metadata": {},
   "source": [
    "- Expressions are madeup of variables operands etc but statement is a unit code which has some function like printing something or calling aa function etc\n",
    "    - spam = 10\n",
    "        - It is a assignment function \n",
    "        - here value (10) is assigned to variable spam"
   ]
  },
  {
   "cell_type": "markdown",
   "id": "0f18b1e6",
   "metadata": {},
   "source": [
    "##### 6. After running the following code, what does the variable bacon contain?\n",
    "##### bacon = 22\n",
    "##### bacon + 1"
   ]
  },
  {
   "cell_type": "markdown",
   "id": "97fac9be",
   "metadata": {},
   "source": [
    "- After executing the following code the bacon value will be 23\n",
    "- lets see by executing"
   ]
  },
  {
   "cell_type": "code",
   "execution_count": 5,
   "id": "9cf945fd",
   "metadata": {},
   "outputs": [
    {
     "name": "stdout",
     "output_type": "stream",
     "text": [
      "23\n"
     ]
    }
   ],
   "source": [
    "bacon = 22\n",
    "print(bacon+1)"
   ]
  },
  {
   "cell_type": "markdown",
   "id": "948065ae",
   "metadata": {},
   "source": [
    "##### \n",
    "##### 7. What should the values of the following two terms be?\n",
    "##### &#39;spam&#39; + &#39;spamspam&#39;\n",
    "##### &#39;spam&#39; * 3"
   ]
  },
  {
   "cell_type": "markdown",
   "id": "f556cb2c",
   "metadata": {},
   "source": [
    "- The 2 outputs will be same \n",
    "    - At first it will concatinate \n",
    "        - The output will be\n",
    "            - 'spamspamspam'\n",
    "    - The secound will repeat the string by 3 times\n",
    "        - The output will be\n",
    "            - 'spamspamspam'"
   ]
  },
  {
   "cell_type": "code",
   "execution_count": 6,
   "id": "1157cefc",
   "metadata": {},
   "outputs": [
    {
     "name": "stdout",
     "output_type": "stream",
     "text": [
      "spamspamspam\n",
      "spamspamspam\n"
     ]
    }
   ],
   "source": [
    "print('spam'+'spamspam')\n",
    "print('spam'*3)"
   ]
  },
  {
   "cell_type": "markdown",
   "id": "d4c2feed",
   "metadata": {},
   "source": [
    "##### \n",
    "##### 8. Why is eggs a valid variable name while 100 is invalid?"
   ]
  },
  {
   "cell_type": "markdown",
   "id": "40e016c7",
   "metadata": {},
   "source": [
    "- eggs is valid because it start with letter and it is a single word with out spaces\n",
    "- 100 is invalid variable because it is digit \n",
    "    - variable can starts only with letter and underscore"
   ]
  },
  {
   "cell_type": "markdown",
   "id": "0d4151c6",
   "metadata": {},
   "source": [
    "##### \n",
    "##### 9. What three functions can be used to get the integer, floating-point number, or string\n",
    "##### version of a value?"
   ]
  },
  {
   "cell_type": "markdown",
   "id": "ca92f6ec",
   "metadata": {},
   "source": [
    "#### string version\n",
    "- str()\n",
    "\n",
    "#### floating point version\n",
    "- float()\n",
    "\n",
    "#### integer version\n",
    "- int()"
   ]
  },
  {
   "cell_type": "code",
   "execution_count": 8,
   "id": "b2b17863",
   "metadata": {},
   "outputs": [
    {
     "name": "stdout",
     "output_type": "stream",
     "text": [
      "10\n",
      "12.0\n",
      "12 10.2\n"
     ]
    }
   ],
   "source": [
    "a=10.2\n",
    "b=12\n",
    "print(int(a))\n",
    "print(float(b))\n",
    "print(str(b),str(a))"
   ]
  },
  {
   "cell_type": "markdown",
   "id": "296d7984",
   "metadata": {},
   "source": [
    "##### 10. Why does this expression cause an error? How can you fix it?\n",
    "##### &#39;I have eaten &#39; + 99 + &#39; burritos.&#39;"
   ]
  },
  {
   "cell_type": "markdown",
   "id": "41d5a5c9",
   "metadata": {},
   "source": [
    "'I have eaten'+99+'burritos'\n",
    "- This expression cause error because we trying to concatinate str and int\n",
    "\n",
    "- To rectify this we have to pass 99 as a string\n",
    "    - 'I have eaten'+'99'+'burritos'"
   ]
  }
 ],
 "metadata": {
  "kernelspec": {
   "display_name": "Python 3 (ipykernel)",
   "language": "python",
   "name": "python3"
  },
  "language_info": {
   "codemirror_mode": {
    "name": "ipython",
    "version": 3
   },
   "file_extension": ".py",
   "mimetype": "text/x-python",
   "name": "python",
   "nbconvert_exporter": "python",
   "pygments_lexer": "ipython3",
   "version": "3.9.12"
  }
 },
 "nbformat": 4,
 "nbformat_minor": 5
}
