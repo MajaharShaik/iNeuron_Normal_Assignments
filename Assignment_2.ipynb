{
 "cells": [
  {
   "cell_type": "markdown",
   "id": "3f62893e",
   "metadata": {},
   "source": [
    "##### 1.What are the two values of the Boolean data type? How do you write them?"
   ]
  },
  {
   "cell_type": "markdown",
   "id": "a7429205",
   "metadata": {},
   "source": [
    "- Boolean Data Types\n",
    "    - True\n",
    "        - It represent true\n",
    "    - False\n",
    "        - It represent false\n",
    "        \n",
    "- Both are written with starting letter as Capital"
   ]
  },
  {
   "cell_type": "code",
   "execution_count": 1,
   "id": "d2af7733",
   "metadata": {},
   "outputs": [
    {
     "name": "stdout",
     "output_type": "stream",
     "text": [
      "True <class 'bool'>\n",
      "False <class 'bool'>\n"
     ]
    }
   ],
   "source": [
    "print(True , type(True))\n",
    "print(False, type(False))"
   ]
  },
  {
   "cell_type": "markdown",
   "id": "ab0b7c0c",
   "metadata": {},
   "source": [
    "##### 2. What are the three different types of Boolean operators?"
   ]
  },
  {
   "cell_type": "markdown",
   "id": "bf4f22bf",
   "metadata": {},
   "source": [
    "- The three different types of Boolean operators\n",
    "\n",
    "    - And\n",
    "    - or\n",
    "    - not"
   ]
  },
  {
   "cell_type": "markdown",
   "id": "d5d26180",
   "metadata": {},
   "source": [
    "##### 3. Make a list of each Boolean operator&#39;s truth tables (i.e. every possible combination of Boolean values for the operator and what it evaluate )."
   ]
  },
  {
   "cell_type": "markdown",
   "id": "b9c28467",
   "metadata": {},
   "source": [
    "- And Truth Table\n",
    "| A | B | A and B |\n",
    "| :----:   | :----:  | :---: |\n",
    "|True|True|True|\n",
    "|True|False|False|\n",
    "|False|True|False|\n",
    "|False|False|False|\n",
    "\n",
    "- Or Truth Table\n",
    "\n",
    "| A | B | A or B |\n",
    "| :----:   | :----:  | :---: |\n",
    "|True|True|True|\n",
    "|True|False|True|\n",
    "|False|True|True|\n",
    "|False|False|False|\n",
    "\n",
    "- Not Truth Table\n",
    "\n",
    "| A | A Not B |\n",
    "| :----:   | :----:  | \n",
    "|True|False|\n",
    "|True|False|"
   ]
  },
  {
   "cell_type": "markdown",
   "id": "623abae1",
   "metadata": {},
   "source": [
    "##### 4. What are the values of the following expressions?"
   ]
  },
  {
   "cell_type": "markdown",
   "id": "9b5cdbbe",
   "metadata": {},
   "source": [
    "````\n",
    "(5 &gt; 4) and (3 == 5)\n",
    "not (5 &gt; 4)\n",
    "(5 &gt; 4) or (3 == 5)\n",
    "not ((5 &gt; 4) or (3 == 5))\n",
    "(True and True) and (True == False)\n",
    "(not False) or (not True)\n",
    "````"
   ]
  },
  {
   "cell_type": "markdown",
   "id": "35dddbfd",
   "metadata": {},
   "source": [
    "- (5 &gt; 4) and (3 == 5)\n",
    "    - False\n",
    "- not (5 &gt; 4)\n",
    "    - False\n",
    "- (5 &gt; 4) or (3 == 5)\n",
    "    - True\n",
    "- not ((5 &gt; 4) or (3 == 5))\n",
    "    - False\n",
    "- (True and True) and (True == False)\n",
    "    - False\n",
    "- (not False) or (not True)\n",
    "    - True"
   ]
  },
  {
   "cell_type": "markdown",
   "id": "8d20b140",
   "metadata": {},
   "source": [
    "##### 5. What are the six comparison operators?"
   ]
  },
  {
   "cell_type": "markdown",
   "id": "96b8df85",
   "metadata": {},
   "source": [
    "- The following are the comparission operatiors\n",
    "\n",
    "| Operator | Meaning |\n",
    "| :----:   | :----:  |\n",
    "|>         | Greaterthan|\n",
    "|>=         | Greaterthan or equalto|\n",
    "|<         | Lessthan|\n",
    "|<=         | Lessthan or equalto|\n",
    "|==        |Equalto|\n",
    "|!=        |Not equal|\n",
    "    "
   ]
  },
  {
   "cell_type": "markdown",
   "id": "8c078fcb",
   "metadata": {},
   "source": [
    "##### 6. How do you tell the difference between the equal to and assignment operators?Describe a condition and when you would use one."
   ]
  },
  {
   "cell_type": "markdown",
   "id": "1dc60f01",
   "metadata": {},
   "source": [
    "- Equal to operator is used to check whether the 2 values are same or not\n",
    "    - 10 == 10\n",
    "    - When we want to check whether two things are same or not we use equal to\n",
    "   \n",
    "- Assignment operator is used to assign some value to a variable\n",
    "    - a = 10\n",
    "    - To assign we use assignment operator"
   ]
  },
  {
   "cell_type": "markdown",
   "id": "685ae359",
   "metadata": {},
   "source": [
    "##### 7. Identify the three blocks in this code:"
   ]
  },
  {
   "cell_type": "markdown",
   "id": "5ec148ff",
   "metadata": {},
   "source": [
    "````\n",
    "spam = 0\n",
    "if spam == 10:\n",
    "print(&#39;eggs&#39;)\n",
    "if spam &gt; 5:\n",
    "print(&#39;bacon&#39;)\n",
    "else:\n",
    "print(&#39;ham&#39;)\n",
    "print(&#39;spam&#39;)\n",
    "print(&#39;spam&#39;)\n",
    "````"
   ]
  },
  {
   "cell_type": "markdown",
   "id": "bafb3d54",
   "metadata": {},
   "source": [
    "- The Three blocks are\n",
    "- First if block Which check condition spam == 10\n",
    "```\n",
    "if spam == 10:\n",
    "    print(&#39;eggs&#39;)\n",
    "\n",
    "```"
   ]
  },
  {
   "cell_type": "markdown",
   "id": "d1b1b4c6",
   "metadata": {},
   "source": [
    "- secound if block Which check condition spam &gt; 5\n",
    "\n",
    "````\n",
    "if spam &gt; 5:\n",
    "    print(&#39;bacon&#39;)\n",
    "    \n",
    "````"
   ]
  },
  {
   "cell_type": "markdown",
   "id": "65101d57",
   "metadata": {},
   "source": [
    "    \n",
    "- Third block is the else block which will execute if  if block condition is false\n",
    "\n",
    "```\n",
    "else:\n",
    "    print(&#39;ham&#39;)\n",
    "    print(&#39;spam&#39;)\n",
    "    print(&#39;spam&#39;)\n",
    "    \n",
    "    \n",
    "```"
   ]
  },
  {
   "cell_type": "markdown",
   "id": "d2a4b2fc",
   "metadata": {},
   "source": [
    "##### 8. Write code that prints Hello if 1 is stored in spam, prints Howdy if 2 is stored in spam, and prints Greetings! if anything else is stored in spam."
   ]
  },
  {
   "cell_type": "code",
   "execution_count": 4,
   "id": "2d19eb55",
   "metadata": {},
   "outputs": [
    {
     "name": "stdout",
     "output_type": "stream",
     "text": [
      "1\n",
      "Hello\n"
     ]
    }
   ],
   "source": [
    "spam=int(input())\n",
    "if spam == 1:\n",
    "    print(\"Hello\")\n",
    "elif spam == 2:\n",
    "    print(\"Howdy\")\n",
    "else:\n",
    "    print(\"Greetings\")"
   ]
  },
  {
   "cell_type": "markdown",
   "id": "f31d9f4a",
   "metadata": {},
   "source": [
    "##### 9.If your programme is stuck in an endless loop, what keys you’ll press?"
   ]
  },
  {
   "cell_type": "markdown",
   "id": "b82375e0",
   "metadata": {},
   "source": [
    "- Keys to press to come out of a endless loop is\n",
    "     - ctrl+c"
   ]
  },
  {
   "cell_type": "markdown",
   "id": "62fbe422",
   "metadata": {},
   "source": [
    "##### 10. How can you tell the difference between break and continue?"
   ]
  },
  {
   "cell_type": "markdown",
   "id": "dd088fc1",
   "metadata": {},
   "source": [
    "- Break \n",
    "    - This will take the control to out of the loop\n",
    "   \n",
    "- Continue\n",
    "    - This will just pass the control to next iteration"
   ]
  },
  {
   "cell_type": "markdown",
   "id": "347aa7c9",
   "metadata": {},
   "source": [
    "##### 11. In a for loop, what is the difference between range(10), range(0, 10), and range(0, 10, 1)?"
   ]
  },
  {
   "cell_type": "markdown",
   "id": "120d3d28",
   "metadata": {},
   "source": [
    "- range(10)\n",
    "    - It will take values form 0 to 9 , it will exclude the 10\n",
    "    - The value are (1,2,3,4,5,6,7,8,9)\n",
    "    \n",
    "- range(0,10)\n",
    "    - The starting value is 0 and ending value is 10\n",
    "    - It will take values form 0 to 9 , it will exclude the 10\n",
    "    - The value are (1,2,3,4,5,6,7,8,9)\n",
    "\n",
    "- range(0,10,1)\n",
    "    - The starting value is 0 and ending value is 10 and step size is 1\n",
    "    - It will take values form 0 to 9 , it will exclude the 10\n",
    "    - The value are (1,2,3,4,5,6,7,8,9)\n",
    "\n"
   ]
  },
  {
   "cell_type": "markdown",
   "id": "32ac1cf5",
   "metadata": {},
   "source": [
    "##### 12. Write a short program that prints the numbers 1 to 10 using a for loop. Then write an equivalent program that prints the numbers 1 to 10 using a while loop."
   ]
  },
  {
   "cell_type": "code",
   "execution_count": 5,
   "id": "ca18327f",
   "metadata": {},
   "outputs": [
    {
     "name": "stdout",
     "output_type": "stream",
     "text": [
      "1 2 3 4 5 6 7 8 9 10 \n",
      "1 2 3 4 5 6 7 8 9 10 "
     ]
    }
   ],
   "source": [
    "for i in range(1,11):\n",
    "    print(i,end = \" \")\n",
    "print(\"\")\n",
    "i=1\n",
    "while i<=10:\n",
    "    print(i,end=\" \")\n",
    "    i+=1"
   ]
  },
  {
   "cell_type": "markdown",
   "id": "82da47dd",
   "metadata": {},
   "source": [
    "##### 13. If you had a function named bacon() inside a module named spam, how would you call it after importing spam?"
   ]
  },
  {
   "cell_type": "markdown",
   "id": "0cd0900a",
   "metadata": {},
   "source": [
    "- we can call bacon() which is inside a module names spam as follows\n",
    "    - spam.bacon()"
   ]
  }
 ],
 "metadata": {
  "kernelspec": {
   "display_name": "Python 3 (ipykernel)",
   "language": "python",
   "name": "python3"
  },
  "language_info": {
   "codemirror_mode": {
    "name": "ipython",
    "version": 3
   },
   "file_extension": ".py",
   "mimetype": "text/x-python",
   "name": "python",
   "nbconvert_exporter": "python",
   "pygments_lexer": "ipython3",
   "version": "3.9.12"
  }
 },
 "nbformat": 4,
 "nbformat_minor": 5
}
