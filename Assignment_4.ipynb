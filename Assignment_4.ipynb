{
 "cells": [
  {
   "cell_type": "markdown",
   "id": "4b11ab03",
   "metadata": {},
   "source": [
    "##### 1. What exactly is []?"
   ]
  },
  {
   "cell_type": "markdown",
   "id": "97c02d8a",
   "metadata": {},
   "source": [
    "- It is a list\n",
    "- The general syntax of the list is \n",
    "    - list_name=[]\n",
    "    \n",
    "    "
   ]
  },
  {
   "cell_type": "markdown",
   "id": "9e2d17c9",
   "metadata": {},
   "source": [
    "- List consits of various datatype items in a single list"
   ]
  },
  {
   "cell_type": "markdown",
   "id": "bfa28818",
   "metadata": {},
   "source": [
    "##### 2. In a list of values stored in a variable called spam, how would you assign the value &#39;hello&#39; as the third value? (Assume [2, 4, 6, 8, 10] are in spam.) Let&#39;s pretend the spam includes the list [&#39;a&#39;, &#39;b&#39;, &#39;c&#39;, &#39;d&#39;] for the next three queries."
   ]
  },
  {
   "cell_type": "markdown",
   "id": "93a6db2b",
   "metadata": {},
   "source": [
    "- We can assign by using assignment operator\n",
    "- And also we can use insert function to insert any element into the list\n",
    "- The main difference is that normal assigment operator will replace the value but insert function will put the element without replacing"
   ]
  },
  {
   "cell_type": "code",
   "execution_count": 1,
   "id": "e2467609",
   "metadata": {},
   "outputs": [
    {
     "name": "stdout",
     "output_type": "stream",
     "text": [
      "[2, 4, 6, 'hello', 10]\n"
     ]
    }
   ],
   "source": [
    "spam=[2,4,6,8,10]\n",
    "spam[3]='hello'\n",
    "print(spam)"
   ]
  },
  {
   "cell_type": "code",
   "execution_count": 3,
   "id": "903b6b4e",
   "metadata": {},
   "outputs": [
    {
     "name": "stdout",
     "output_type": "stream",
     "text": [
      "[2, 4, 6, 'hello', 8, 10]\n"
     ]
    }
   ],
   "source": [
    "spam=[2,4,6,8,10]\n",
    "spam.insert(3,'hello')\n",
    "print(spam)"
   ]
  },
  {
   "cell_type": "code",
   "execution_count": 4,
   "id": "6ad6272d",
   "metadata": {},
   "outputs": [],
   "source": [
    "spam=[2,4,6,'hello',8,10,'a','b','c','d']"
   ]
  },
  {
   "cell_type": "markdown",
   "id": "66ebfbfc",
   "metadata": {},
   "source": [
    "##### 3. What is the value of spam[int(int(&#39;3&#39; * 2) / 11)]?"
   ]
  },
  {
   "cell_type": "markdown",
   "id": "6218e8ab",
   "metadata": {},
   "source": [
    "- The value is 'hello'"
   ]
  },
  {
   "cell_type": "code",
   "execution_count": 6,
   "id": "1807da49",
   "metadata": {},
   "outputs": [
    {
     "data": {
      "text/plain": [
       "'hello'"
      ]
     },
     "execution_count": 6,
     "metadata": {},
     "output_type": "execute_result"
    }
   ],
   "source": [
    "spam[int(int('3' * 2) / 11)]"
   ]
  },
  {
   "cell_type": "markdown",
   "id": "fcc1c9b5",
   "metadata": {},
   "source": [
    "##### 4. What is the value of spam[-1]?"
   ]
  },
  {
   "cell_type": "markdown",
   "id": "27ca86c0",
   "metadata": {},
   "source": [
    "- The value is 'd'"
   ]
  },
  {
   "cell_type": "code",
   "execution_count": 7,
   "id": "55ab5cb2",
   "metadata": {},
   "outputs": [
    {
     "data": {
      "text/plain": [
       "'d'"
      ]
     },
     "execution_count": 7,
     "metadata": {},
     "output_type": "execute_result"
    }
   ],
   "source": [
    "spam[-1]"
   ]
  },
  {
   "cell_type": "markdown",
   "id": "1dcf7033",
   "metadata": {},
   "source": [
    "##### 5. What is the value of spam[:2]? Let&#39;s pretend bacon has the list [3.14, &#39;cat,&#39; 11, &#39;cat,&#39; True] for the next three questions."
   ]
  },
  {
   "cell_type": "markdown",
   "id": "5e78e367",
   "metadata": {},
   "source": [
    "- The value is [2,4]"
   ]
  },
  {
   "cell_type": "code",
   "execution_count": 9,
   "id": "f50c46fe",
   "metadata": {},
   "outputs": [
    {
     "data": {
      "text/plain": [
       "[2, 4]"
      ]
     },
     "execution_count": 9,
     "metadata": {},
     "output_type": "execute_result"
    }
   ],
   "source": [
    "spam[:2]"
   ]
  },
  {
   "cell_type": "code",
   "execution_count": 10,
   "id": "706cafb2",
   "metadata": {},
   "outputs": [],
   "source": [
    "bacon=[3.14,'cat',11,'cat',True]"
   ]
  },
  {
   "cell_type": "markdown",
   "id": "d02a88f4",
   "metadata": {},
   "source": [
    "##### 6. What is the value of bacon.index(&#39;cat&#39;)?"
   ]
  },
  {
   "cell_type": "markdown",
   "id": "da6d8565",
   "metadata": {},
   "source": [
    "- The value is 1"
   ]
  },
  {
   "cell_type": "code",
   "execution_count": 11,
   "id": "30aec6f6",
   "metadata": {},
   "outputs": [
    {
     "data": {
      "text/plain": [
       "1"
      ]
     },
     "execution_count": 11,
     "metadata": {},
     "output_type": "execute_result"
    }
   ],
   "source": [
    "bacon.index('cat')"
   ]
  },
  {
   "cell_type": "markdown",
   "id": "54a2ae36",
   "metadata": {},
   "source": [
    "##### 7. How does bacon.append(99) change the look of the list value in bacon?"
   ]
  },
  {
   "cell_type": "markdown",
   "id": "b8ea8308",
   "metadata": {},
   "source": [
    "- bacon.append(99) will add the value 99 to the end of the list \n",
    "- Then the list will be like this\n",
    "    - [3.14,'cat',11,'cat',True,99]"
   ]
  },
  {
   "cell_type": "code",
   "execution_count": 12,
   "id": "7a973164",
   "metadata": {},
   "outputs": [
    {
     "name": "stdout",
     "output_type": "stream",
     "text": [
      "[3.14, 'cat', 11, 'cat', True, 99]\n"
     ]
    }
   ],
   "source": [
    "bacon.append(99)\n",
    "print(bacon)"
   ]
  },
  {
   "cell_type": "markdown",
   "id": "7f6a630c",
   "metadata": {},
   "source": [
    "##### 8. How does bacon.remove(&#39;cat&#39;) change the look of the list in bacon?"
   ]
  },
  {
   "cell_type": "markdown",
   "id": "554d0dd0",
   "metadata": {},
   "source": [
    "- bacon.remove('cat') will remove the first occurance of 'cat' in the list\n",
    "- Then the list will be like this\n",
    "    - [3.14,11,'cat',True,99]"
   ]
  },
  {
   "cell_type": "code",
   "execution_count": 13,
   "id": "dece65b2",
   "metadata": {},
   "outputs": [
    {
     "name": "stdout",
     "output_type": "stream",
     "text": [
      "[3.14, 11, 'cat', True, 99]\n"
     ]
    }
   ],
   "source": [
    "bacon.remove('cat')\n",
    "print(bacon)"
   ]
  },
  {
   "cell_type": "markdown",
   "id": "1c14c02a",
   "metadata": {},
   "source": [
    "##### 9. What are the list concatenation and list replication operators?"
   ]
  },
  {
   "cell_type": "markdown",
   "id": "88e972b3",
   "metadata": {},
   "source": [
    "- List concatenation \n",
    "    - It will add two list means first list then second list\n",
    "    - We use + operator to concatinate\n",
    "    \n",
    "- List replication\n",
    "    - It means it repeats the list with given number of times\n",
    "    - We use * operator to replication"
   ]
  },
  {
   "cell_type": "code",
   "execution_count": 15,
   "id": "cc1d61f8",
   "metadata": {},
   "outputs": [
    {
     "name": "stdout",
     "output_type": "stream",
     "text": [
      "[1, 2, 3, 4, 5, 6, 7, 8]\n",
      "[1, 2, 3, 4, 1, 2, 3, 4]\n"
     ]
    }
   ],
   "source": [
    "l1=[1,2,3,4]\n",
    "l2=[5,6,7,8]\n",
    "#List concatination\n",
    "l3=l1+l2\n",
    "print(l3)\n",
    "#list replication\n",
    "print(l1*2)"
   ]
  },
  {
   "cell_type": "markdown",
   "id": "abe99e5d",
   "metadata": {},
   "source": [
    "##### 10. What is difference between the list methods append() and insert()?"
   ]
  },
  {
   "cell_type": "markdown",
   "id": "48b6b54a",
   "metadata": {},
   "source": [
    "- append()\n",
    "    - append method will add the single element to the end of the list\n",
    "    - The syntax is \n",
    "        - list_name.append(ele)\n",
    "            - ele = element\n",
    "        \n",
    "- insert()\n",
    "    - insert method will also add a single element\n",
    "    - But at specified location\n",
    "    - The syntax is\n",
    "        - list_name.insert(loc,ele)\n",
    "            - ele = element\n",
    "            - loc = location"
   ]
  },
  {
   "cell_type": "markdown",
   "id": "3a992314",
   "metadata": {},
   "source": [
    "##### 11. What are the two methods for removing items from a list?"
   ]
  },
  {
   "cell_type": "markdown",
   "id": "086d6be5",
   "metadata": {},
   "source": [
    "- The two methods are\n",
    "    - remove\n",
    "    - pop\n",
    "    \n",
    "- remove\n",
    "    - in remove method we will specify the ele\n",
    "    - list_name.remove(ele)\n",
    "    \n",
    "- pop\n",
    "    - in pop method we will specify the index\n",
    "    - list_name.pop(loc)\n",
    "    - If we didn't specifies any location it will automatically delete the last element\n",
    "    "
   ]
  },
  {
   "cell_type": "code",
   "execution_count": 16,
   "id": "2ce7bd0e",
   "metadata": {},
   "outputs": [
    {
     "name": "stdout",
     "output_type": "stream",
     "text": [
      "['two', 'three', 'four', 'five']\n",
      "['two', 'four', 'five']\n",
      "['two', 'four']\n"
     ]
    }
   ],
   "source": [
    "l=['one','two','three','four','five']\n",
    "l.remove('one')\n",
    "print(l)\n",
    "l.pop(1)\n",
    "print(l)\n",
    "l.pop()\n",
    "print(l)"
   ]
  },
  {
   "cell_type": "markdown",
   "id": "5392d386",
   "metadata": {},
   "source": [
    "##### 12. Describe how list values and string values are identical."
   ]
  },
  {
   "cell_type": "markdown",
   "id": "4b1c65de",
   "metadata": {},
   "source": [
    "- List value and string values are identical in the following manner\n",
    "    - both are based with 0 index\n",
    "    - both accessing of values are same"
   ]
  },
  {
   "cell_type": "markdown",
   "id": "b067432e",
   "metadata": {},
   "source": [
    "##### 13. What&#39;s the difference between tuples and lists?"
   ]
  },
  {
   "cell_type": "markdown",
   "id": "1e0f05a3",
   "metadata": {},
   "source": [
    "- List is mutable\n",
    "- tuples are immutable\n",
    "\n",
    "- That means list values can be change at any time \n",
    "- But tuple values we cant change"
   ]
  },
  {
   "cell_type": "markdown",
   "id": "2b6587ac",
   "metadata": {},
   "source": [
    "##### 14. How do you type a tuple value that only contains the integer 42?"
   ]
  },
  {
   "cell_type": "code",
   "execution_count": 22,
   "id": "3b70db98",
   "metadata": {},
   "outputs": [],
   "source": [
    "tuple_1=(42,)"
   ]
  },
  {
   "cell_type": "code",
   "execution_count": 23,
   "id": "dbf3bf87",
   "metadata": {},
   "outputs": [
    {
     "data": {
      "text/plain": [
       "tuple"
      ]
     },
     "execution_count": 23,
     "metadata": {},
     "output_type": "execute_result"
    }
   ],
   "source": [
    "type(tuple_1)"
   ]
  },
  {
   "cell_type": "markdown",
   "id": "1b82616f",
   "metadata": {},
   "source": [
    "##### 15. How do you get a list value&#39;s tuple form? How do you get a tuple value&#39;s list form?"
   ]
  },
  {
   "cell_type": "markdown",
   "id": "b3c6a2ca",
   "metadata": {},
   "source": [
    "- By using methods\n",
    "    - list()\n",
    "    - tuple()"
   ]
  },
  {
   "cell_type": "code",
   "execution_count": 24,
   "id": "cf1b9685",
   "metadata": {},
   "outputs": [
    {
     "name": "stdout",
     "output_type": "stream",
     "text": [
      "(1, 2, 3, 4, 5)\n",
      "<class 'tuple'>\n",
      "[1, 2, 3, 4, 5]\n",
      "<class 'list'>\n"
     ]
    }
   ],
   "source": [
    "l=[1,2,3,4,5]\n",
    "type(l)\n",
    "t=tuple(l)\n",
    "print(t)\n",
    "print(type(t))\n",
    "l=list(t)\n",
    "print(l)\n",
    "print(type(l))"
   ]
  },
  {
   "cell_type": "markdown",
   "id": "c47931ba",
   "metadata": {},
   "source": [
    "##### 16. Variables that &quot;contain&quot; list values are not necessarily lists themselves. Instead, what do they contain?"
   ]
  },
  {
   "cell_type": "markdown",
   "id": "3c15c284",
   "metadata": {},
   "source": [
    "- they contain the address of the list\n",
    "- Because we know that all the variables sotres the address"
   ]
  },
  {
   "cell_type": "markdown",
   "id": "b62de228",
   "metadata": {},
   "source": [
    "##### 17. How do you distinguish between copy.copy() and copy.deepcopy()?"
   ]
  },
  {
   "cell_type": "markdown",
   "id": "2ef5dcc7",
   "metadata": {},
   "source": [
    "- copy() create reference to original object, it is called as shallow copy\n",
    "    - If you change copied object - you change the original object. \n",
    "- deepcopy() creates new object and does real copying of original object to new one, it is called as deepcopy\n",
    "    - Changing new deepcopied object doesn't affect original object."
   ]
  }
 ],
 "metadata": {
  "kernelspec": {
   "display_name": "Python 3 (ipykernel)",
   "language": "python",
   "name": "python3"
  },
  "language_info": {
   "codemirror_mode": {
    "name": "ipython",
    "version": 3
   },
   "file_extension": ".py",
   "mimetype": "text/x-python",
   "name": "python",
   "nbconvert_exporter": "python",
   "pygments_lexer": "ipython3",
   "version": "3.9.12"
  }
 },
 "nbformat": 4,
 "nbformat_minor": 5
}
