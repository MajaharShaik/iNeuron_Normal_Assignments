{
 "cells": [
  {
   "cell_type": "markdown",
   "id": "87e6925f",
   "metadata": {},
   "source": [
    "##### 1. What are escape characters, and how do you use them?"
   ]
  },
  {
   "cell_type": "markdown",
   "id": "391f8daa",
   "metadata": {},
   "source": [
    "- we use illigal chareters in a string we use escape charecters \n",
    "- The escape charecter is \\ and followed by the chartecter that u want to insert\n",
    "- The following are the examples\n",
    "\n",
    "| code | result |\n",
    "|:----:|:------:|\n",
    "|\\'|Single quote|\n",
    "|\\\\|Backslash|\n",
    "|\\n|NewLine|\n",
    "|\\t|Tab|\n",
    "|\\b|Backspace|"
   ]
  },
  {
   "cell_type": "markdown",
   "id": "81d71900",
   "metadata": {},
   "source": [
    "##### 2. What do the escape characters n and t stand for?"
   ]
  },
  {
   "cell_type": "markdown",
   "id": "35f22f0c",
   "metadata": {},
   "source": [
    "- \\n stands for new line \n",
    "- \\t stands for tab"
   ]
  },
  {
   "cell_type": "code",
   "execution_count": 15,
   "id": "513957c9",
   "metadata": {},
   "outputs": [
    {
     "name": "stdout",
     "output_type": "stream",
     "text": [
      "majju\n",
      "majju\n",
      "majju\tmajju\n"
     ]
    }
   ],
   "source": [
    "print(\"majju\\nmajju\")\n",
    "print(\"majju\\tmajju\")"
   ]
  },
  {
   "cell_type": "markdown",
   "id": "2ff5a2b0",
   "metadata": {},
   "source": [
    "##### 3. What is the way to include backslash characters in a string?"
   ]
  },
  {
   "cell_type": "markdown",
   "id": "d022acfb",
   "metadata": {},
   "source": [
    "- By giving two backslashs"
   ]
  },
  {
   "cell_type": "code",
   "execution_count": 12,
   "id": "2f63bd78",
   "metadata": {},
   "outputs": [
    {
     "name": "stdout",
     "output_type": "stream",
     "text": [
      "This is \\ backslash example\n"
     ]
    }
   ],
   "source": [
    "a=\"This is \\\\ backslash example\"\n",
    "print(a)"
   ]
  },
  {
   "cell_type": "markdown",
   "id": "1d118d2b",
   "metadata": {},
   "source": [
    "##### 4. The string &quot;Howl&#39;s Moving Castle&quot; is a correct value. Why isn&#39;t the single quote character in the word Howl&#39;s not escaped a problem?"
   ]
  },
  {
   "cell_type": "markdown",
   "id": "c7231dd2",
   "metadata": {},
   "source": [
    "- Because the whole string is in double quotes(\"\") so the single quote doest make any problem\n"
   ]
  },
  {
   "cell_type": "code",
   "execution_count": 10,
   "id": "fa09008d",
   "metadata": {},
   "outputs": [
    {
     "name": "stdout",
     "output_type": "stream",
     "text": [
      "Howl's Moving Castle\n"
     ]
    }
   ],
   "source": [
    "a=\"Howl's Moving Castle\"\n",
    "print(a)"
   ]
  },
  {
   "cell_type": "markdown",
   "id": "aaa4bd3d",
   "metadata": {},
   "source": [
    "##### 5. How do you write a string of newlines if you don&#39;t want to use the n character?"
   ]
  },
  {
   "cell_type": "markdown",
   "id": "b7e3ce57",
   "metadata": {},
   "source": [
    "- By using doc string \n",
    "- we can write any line of string using triple singel or double quotes\n"
   ]
  },
  {
   "cell_type": "code",
   "execution_count": 11,
   "id": "e84c03b8",
   "metadata": {},
   "outputs": [
    {
     "name": "stdout",
     "output_type": "stream",
     "text": [
      "This is majju\n",
      "and i am a student\n"
     ]
    }
   ],
   "source": [
    "a=\"\"\"This is majju\n",
    "and i am a student\"\"\"\n",
    "print(a)"
   ]
  },
  {
   "cell_type": "markdown",
   "id": "923b5135",
   "metadata": {},
   "source": [
    "##### 6. What are the values of the given expressions? \n",
    "\n",
    "- &#39;Hello, world!&#39;[1]\n",
    "- &#39;Hello, world!&#39;[0:5]\n",
    "- &#39;Hello, world!&#39;[:5]\n",
    "- &#39;Hello, world!&#39;[3:]"
   ]
  },
  {
   "cell_type": "markdown",
   "id": "a175190d",
   "metadata": {},
   "source": [
    "- 'Hello, world!'[1]\n",
    "    - 'e'\n",
    "- 'Hello, world!'[0:5]\n",
    "    - 'Hello'\n",
    "- 'Hello, world!'[:5]\n",
    "    - 'Hello'\n",
    "- 'Hello, world!'[3:]\n",
    "    - 'lo, world!'"
   ]
  },
  {
   "cell_type": "code",
   "execution_count": 1,
   "id": "0b4de925",
   "metadata": {},
   "outputs": [
    {
     "name": "stdout",
     "output_type": "stream",
     "text": [
      "e\n",
      "Hello\n",
      "Hello\n",
      "lo, world!\n"
     ]
    }
   ],
   "source": [
    "s='Hello, world!'\n",
    "print(s[1])\n",
    "print(s[0:5])\n",
    "print(s[:5])\n",
    "print(s[3:])"
   ]
  },
  {
   "cell_type": "markdown",
   "id": "0fceddad",
   "metadata": {},
   "source": [
    "##### 7. What are the values of the following expressions? \n",
    "\n",
    "- &#39;Hello&#39;.upper()\n",
    "- &#39;Hello&#39;.upper().isupper()\n",
    "- &#39;Hello&#39;.upper().lower()"
   ]
  },
  {
   "cell_type": "markdown",
   "id": "8b69f9a1",
   "metadata": {},
   "source": [
    "- 'Hello'.upper()\n",
    "    - 'HELLO'\n",
    "- 'Hello'.upper().isupper()\n",
    "    - True\n",
    "- 'Hello'.upper().lower()\n",
    "    - 'hello'"
   ]
  },
  {
   "cell_type": "code",
   "execution_count": 3,
   "id": "6e2cb59b",
   "metadata": {},
   "outputs": [
    {
     "name": "stdout",
     "output_type": "stream",
     "text": [
      "HELLO\n",
      "True\n",
      "hello\n"
     ]
    }
   ],
   "source": [
    "print('Hello'.upper())\n",
    "print('Hello'.upper().isupper())\n",
    "print('Hello'.upper().lower())"
   ]
  },
  {
   "cell_type": "markdown",
   "id": "b15d6ef4",
   "metadata": {},
   "source": [
    "##### 8. What are the values of the following expressions ?\n",
    "\n",
    "- &#39;Remember, remember, the fifth of July.&#39;.split()\n",
    "- &#39;-&#39;.join(&#39;There can only one.&#39;.split())"
   ]
  },
  {
   "cell_type": "markdown",
   "id": "e322fb86",
   "metadata": {},
   "source": [
    "- 'Remember, remember, the fifth of July.'.split()\n",
    "    - ['Remember,', 'remember,', 'the', 'fifth', 'of', 'July.']\n",
    "- '-'.join('There can only one.'.split())\n",
    "    - There-can-only-one."
   ]
  },
  {
   "cell_type": "code",
   "execution_count": 5,
   "id": "055a8358",
   "metadata": {},
   "outputs": [
    {
     "name": "stdout",
     "output_type": "stream",
     "text": [
      "['Remember,', 'remember,', 'the', 'fifth', 'of', 'July.']\n",
      "There-can-only-one.\n"
     ]
    }
   ],
   "source": [
    "print('Remember, remember, the fifth of July.'.split())\n",
    "print('-'.join('There can only one.'.split()))"
   ]
  },
  {
   "cell_type": "markdown",
   "id": "fc75ab85",
   "metadata": {},
   "source": [
    "##### 9. What are the methods for right-justifying, left-justifying, and centering a string?"
   ]
  },
  {
   "cell_type": "markdown",
   "id": "a5e4deb5",
   "metadata": {},
   "source": [
    "- right-justifing\n",
    "    - string.rjust()\n",
    "- left-justifing\n",
    "    - string.ljust()\n",
    "- centering\n",
    "    - string.center()"
   ]
  },
  {
   "cell_type": "code",
   "execution_count": 6,
   "id": "e464d3b3",
   "metadata": {},
   "outputs": [
    {
     "name": "stdout",
     "output_type": "stream",
     "text": [
      "@@@@@@@@@@@@@iNeuron\n",
      "iNeuron@@@@@@@@@@@@@\n",
      "@@@@@@iNeuron@@@@@@@\n"
     ]
    }
   ],
   "source": [
    "s=\"iNeuron\"\n",
    "print(s.rjust(20,'@'))\n",
    "print(s.ljust(20,'@'))\n",
    "print(s.center(20,\"@\"))"
   ]
  },
  {
   "cell_type": "markdown",
   "id": "7fb13cfa",
   "metadata": {},
   "source": [
    "##### 10. What is the best way to remove whitespace characters from the start or end?"
   ]
  },
  {
   "cell_type": "markdown",
   "id": "c682e180",
   "metadata": {},
   "source": [
    "- methods to remove white spaces\n",
    "- Left whitespaces\n",
    "    - lstrip()\n",
    "- Right whitespaces\n",
    "    - rstrip()\n",
    "    \n",
    "- Both right and left whitespaces\n",
    "\n",
    "    - strip()"
   ]
  },
  {
   "cell_type": "code",
   "execution_count": 9,
   "id": "a05a72dc",
   "metadata": {},
   "outputs": [
    {
     "name": "stdout",
     "output_type": "stream",
     "text": [
      "This is iNeuron\n",
      "  This is iNeuron\n",
      "This is iNeuron  \n"
     ]
    }
   ],
   "source": [
    "s = \"  This is iNeuron  \"\n",
    "print(s.strip())\n",
    "print(s.rstrip())\n",
    "print(s.lstrip())"
   ]
  }
 ],
 "metadata": {
  "kernelspec": {
   "display_name": "Python 3 (ipykernel)",
   "language": "python",
   "name": "python3"
  },
  "language_info": {
   "codemirror_mode": {
    "name": "ipython",
    "version": 3
   },
   "file_extension": ".py",
   "mimetype": "text/x-python",
   "name": "python",
   "nbconvert_exporter": "python",
   "pygments_lexer": "ipython3",
   "version": "3.9.12"
  }
 },
 "nbformat": 4,
 "nbformat_minor": 5
}
