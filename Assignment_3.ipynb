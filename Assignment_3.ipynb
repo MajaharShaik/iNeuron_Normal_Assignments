{
 "cells": [
  {
   "cell_type": "markdown",
   "id": "81bc302f",
   "metadata": {},
   "source": [
    "##### 1. Why are functions advantageous to have in your programs?"
   ]
  },
  {
   "cell_type": "markdown",
   "id": "f201c2ea",
   "metadata": {},
   "source": [
    "- Functions\n",
    "    - The functions are advantageous because it provide code reuse\n",
    "    - It decrease the no of lines in the code\n",
    "    - It made code to understand easily"
   ]
  },
  {
   "cell_type": "markdown",
   "id": "3d2a3408",
   "metadata": {},
   "source": [
    "##### 2. When does the code in a function run: when it&#39;s specified or when it&#39;s called?"
   ]
  },
  {
   "cell_type": "markdown",
   "id": "9f0976ec",
   "metadata": {},
   "source": [
    "- Function code is run only when it is called in the main function"
   ]
  },
  {
   "cell_type": "code",
   "execution_count": 1,
   "id": "0422c230",
   "metadata": {},
   "outputs": [
    {
     "name": "stdout",
     "output_type": "stream",
     "text": [
      "Before calling function\n",
      "This is a function block\n",
      "After calling function\n"
     ]
    }
   ],
   "source": [
    "#function example\n",
    "def majju():\n",
    "    print(\"This is a function block\")\n",
    "\n",
    "print(\"Before calling function\")\n",
    "majju()\n",
    "print(\"After calling function\")"
   ]
  },
  {
   "cell_type": "markdown",
   "id": "19e4c58c",
   "metadata": {},
   "source": [
    "##### 3. What statement creates a function?"
   ]
  },
  {
   "cell_type": "markdown",
   "id": "0613babd",
   "metadata": {},
   "source": [
    "- Syntax to create a function is\n",
    "    - def fun_name():\n",
    "    \n",
    "- Example"
   ]
  },
  {
   "cell_type": "code",
   "execution_count": 2,
   "id": "8e40e527",
   "metadata": {},
   "outputs": [
    {
     "name": "stdout",
     "output_type": "stream",
     "text": [
      "iNeuron\n"
     ]
    }
   ],
   "source": [
    "def ineuron():\n",
    "    print('iNeuron')\n",
    "    \n",
    "ineuron()"
   ]
  },
  {
   "cell_type": "markdown",
   "id": "8fb4a05b",
   "metadata": {},
   "source": [
    "##### 4. What is the difference between a function and a function call?"
   ]
  },
  {
   "cell_type": "markdown",
   "id": "7f0c18ff",
   "metadata": {},
   "source": [
    "- Function means only we declaring a function and writing some statements in that according to our use\n",
    "\n",
    "- While the function call means we are calling that particular function when ever we need that"
   ]
  },
  {
   "cell_type": "markdown",
   "id": "62752103",
   "metadata": {},
   "source": [
    "##### 5. How many global scopes are there in a Python program? How many local scopes?"
   ]
  },
  {
   "cell_type": "markdown",
   "id": "8c0c9ba5",
   "metadata": {},
   "source": [
    "- there is only one global scope and a local scope for a function in python\n"
   ]
  },
  {
   "cell_type": "markdown",
   "id": "046a1288",
   "metadata": {},
   "source": [
    "##### 6. What happens to variables in a local scope when the function call returns?"
   ]
  },
  {
   "cell_type": "markdown",
   "id": "c91feda1",
   "metadata": {},
   "source": [
    "- The local scope will destroy and the return value is send to the main function\n",
    "- When the main function again calls the function the local scope will again exist\n"
   ]
  },
  {
   "cell_type": "markdown",
   "id": "d15e04da",
   "metadata": {},
   "source": [
    "##### 7. What is the concept of a return value? Is it possible to have a return value in an expression?"
   ]
  },
  {
   "cell_type": "markdown",
   "id": "72155ff6",
   "metadata": {},
   "source": [
    "- The return value will return something from the function to the main function \n",
    "\n",
    "- Yes, we can have a expression as the return value"
   ]
  },
  {
   "cell_type": "markdown",
   "id": "0e1d415c",
   "metadata": {},
   "source": [
    "##### 8. If a function does not have a return statement, what is the return value of a call to that function?"
   ]
  },
  {
   "cell_type": "markdown",
   "id": "789a46d0",
   "metadata": {},
   "source": [
    "- If a function does not have a return statement, then the return value of a call to that function is \n",
    "    - None"
   ]
  },
  {
   "cell_type": "markdown",
   "id": "8ee63dbd",
   "metadata": {},
   "source": [
    "##### 9. How do you make a function variable refer to the global variable?"
   ]
  },
  {
   "cell_type": "markdown",
   "id": "8e5d0205",
   "metadata": {},
   "source": [
    "- by using global keyword we can refer to the global variable"
   ]
  },
  {
   "cell_type": "code",
   "execution_count": 6,
   "id": "56e9aa5e",
   "metadata": {},
   "outputs": [
    {
     "name": "stdout",
     "output_type": "stream",
     "text": [
      "20\n"
     ]
    }
   ],
   "source": [
    "a=10\n",
    "def fun():\n",
    "    global a\n",
    "    a=20\n",
    "fun()\n",
    "print(a)"
   ]
  },
  {
   "cell_type": "markdown",
   "id": "cf2822fb",
   "metadata": {},
   "source": [
    "##### 10. What is the data type of None?"
   ]
  },
  {
   "cell_type": "markdown",
   "id": "57efd441",
   "metadata": {},
   "source": [
    "- the datatype of none is Nonetype\n"
   ]
  },
  {
   "cell_type": "code",
   "execution_count": 7,
   "id": "261162da",
   "metadata": {},
   "outputs": [
    {
     "data": {
      "text/plain": [
       "NoneType"
      ]
     },
     "execution_count": 7,
     "metadata": {},
     "output_type": "execute_result"
    }
   ],
   "source": [
    "type(None)"
   ]
  },
  {
   "cell_type": "markdown",
   "id": "fb7def15",
   "metadata": {},
   "source": [
    "##### 11. What does the sentence import areallyourpetsnamederic do?"
   ]
  },
  {
   "cell_type": "markdown",
   "id": "9974e661",
   "metadata": {},
   "source": [
    "- the import statement generally import module\n",
    "- the above statement will be importing areallyourpersnamederic module"
   ]
  },
  {
   "cell_type": "code",
   "execution_count": 9,
   "id": "9af34bb7",
   "metadata": {},
   "outputs": [
    {
     "name": "stdout",
     "output_type": "stream",
     "text": [
      "5.0\n"
     ]
    }
   ],
   "source": [
    "#example\n",
    "import math\n",
    "print(math.sqrt(25))"
   ]
  },
  {
   "cell_type": "markdown",
   "id": "b5b6fe5c",
   "metadata": {},
   "source": [
    "##### 12. If you had a bacon() feature in a spam module, what would you call it after importing spam?"
   ]
  },
  {
   "cell_type": "markdown",
   "id": "34cb55d1",
   "metadata": {},
   "source": [
    "- firstly we will import spam\n",
    "- then we call bacon by the following syntax\n",
    "    - spam.bacon()"
   ]
  },
  {
   "cell_type": "markdown",
   "id": "306b05c0",
   "metadata": {},
   "source": [
    "##### 13. What can you do to save a programme from crashing if it encounters an error?"
   ]
  },
  {
   "cell_type": "markdown",
   "id": "3b56db18",
   "metadata": {},
   "source": [
    "- we can use try and except clauses\n"
   ]
  },
  {
   "cell_type": "code",
   "execution_count": 11,
   "id": "c8163a10",
   "metadata": {},
   "outputs": [
    {
     "name": "stdout",
     "output_type": "stream",
     "text": [
      "Division is not possible\n"
     ]
    }
   ],
   "source": [
    "try:\n",
    "    a=10\n",
    "    b=0\n",
    "    print(a/b)\n",
    "except:\n",
    "    print(\"Division is not possible\")"
   ]
  },
  {
   "cell_type": "markdown",
   "id": "b435d662",
   "metadata": {},
   "source": [
    "##### 14. What is the purpose of the try clause? What is the purpose of the except clause?"
   ]
  },
  {
   "cell_type": "markdown",
   "id": "e20ec3b8",
   "metadata": {},
   "source": [
    "- If we think any error will occur in our codes will execution time we will put it in try block \n",
    "- so then if there any error occur it will be handle by the very next exception block\n"
   ]
  },
  {
   "cell_type": "code",
   "execution_count": 12,
   "id": "d45ffc30",
   "metadata": {},
   "outputs": [
    {
     "name": "stdout",
     "output_type": "stream",
     "text": [
      "Division is not possible\n"
     ]
    }
   ],
   "source": [
    "try:\n",
    "    a=10\n",
    "    b=0\n",
    "    print(a/b)\n",
    "except:\n",
    "    print(\"Division is not possible\")"
   ]
  }
 ],
 "metadata": {
  "kernelspec": {
   "display_name": "Python 3 (ipykernel)",
   "language": "python",
   "name": "python3"
  },
  "language_info": {
   "codemirror_mode": {
    "name": "ipython",
    "version": 3
   },
   "file_extension": ".py",
   "mimetype": "text/x-python",
   "name": "python",
   "nbconvert_exporter": "python",
   "pygments_lexer": "ipython3",
   "version": "3.9.12"
  }
 },
 "nbformat": 4,
 "nbformat_minor": 5
}
