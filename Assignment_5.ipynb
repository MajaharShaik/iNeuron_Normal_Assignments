{
 "cells": [
  {
   "cell_type": "markdown",
   "id": "710fc52b",
   "metadata": {},
   "source": [
    "##### 1. What does an empty dictionary&#39;s code look like?"
   ]
  },
  {
   "cell_type": "markdown",
   "id": "1958a107",
   "metadata": {},
   "source": [
    "- The following are the two types of empty dictinory code"
   ]
  },
  {
   "cell_type": "code",
   "execution_count": 5,
   "id": "99125fd0",
   "metadata": {},
   "outputs": [
    {
     "name": "stdout",
     "output_type": "stream",
     "text": [
      "<class 'dict'>\n",
      "<class 'dict'>\n"
     ]
    }
   ],
   "source": [
    "dict_1=dict()\n",
    "print(type(dict_1))\n",
    "dict_2={}\n",
    "print(type(dict_2))"
   ]
  },
  {
   "cell_type": "markdown",
   "id": "f444f83a",
   "metadata": {},
   "source": [
    "##### 2. What is the value of a dictionary value with the key &#39;foo&#39; and the value 42?"
   ]
  },
  {
   "cell_type": "markdown",
   "id": "f74dd949",
   "metadata": {},
   "source": [
    "- It looks like {'foo':42}"
   ]
  },
  {
   "cell_type": "code",
   "execution_count": 7,
   "id": "c1991fc7",
   "metadata": {},
   "outputs": [
    {
     "data": {
      "text/plain": [
       "{'foo': 42}"
      ]
     },
     "execution_count": 7,
     "metadata": {},
     "output_type": "execute_result"
    }
   ],
   "source": [
    "dict_1['foo']=42\n",
    "dict_1"
   ]
  },
  {
   "cell_type": "markdown",
   "id": "b5313c1b",
   "metadata": {},
   "source": [
    "##### 3. What is the most significant distinction between a dictionary and a list?"
   ]
  },
  {
   "cell_type": "markdown",
   "id": "634d38a4",
   "metadata": {},
   "source": [
    "- Dictionary\n",
    "    - It has items unordered \n",
    "    - means there is no order for storing data in dictonary \n",
    "    - we retrive the data using keys \n",
    "    \n",
    "- List\n",
    "    - It has items orderede\n",
    "    - They are retrive using index value"
   ]
  },
  {
   "cell_type": "markdown",
   "id": "d1820f69",
   "metadata": {},
   "source": [
    "##### 4. What happens if you try to access spam[&#39;foo&#39;] if spam is {&#39;bar&#39;: 100}?"
   ]
  },
  {
   "cell_type": "markdown",
   "id": "f8c0c5cd",
   "metadata": {},
   "source": [
    "- We will get keyError"
   ]
  },
  {
   "cell_type": "code",
   "execution_count": 10,
   "id": "4d2e23cf",
   "metadata": {},
   "outputs": [
    {
     "ename": "KeyError",
     "evalue": "'foo'",
     "output_type": "error",
     "traceback": [
      "\u001b[1;31m---------------------------------------------------------------------------\u001b[0m",
      "\u001b[1;31mKeyError\u001b[0m                                  Traceback (most recent call last)",
      "Input \u001b[1;32mIn [10]\u001b[0m, in \u001b[0;36m<cell line: 2>\u001b[1;34m()\u001b[0m\n\u001b[0;32m      1\u001b[0m spam\u001b[38;5;241m=\u001b[39m{\u001b[38;5;124m'\u001b[39m\u001b[38;5;124mbar\u001b[39m\u001b[38;5;124m'\u001b[39m:\u001b[38;5;241m100\u001b[39m}\n\u001b[1;32m----> 2\u001b[0m \u001b[38;5;28mprint\u001b[39m(\u001b[43mspam\u001b[49m\u001b[43m[\u001b[49m\u001b[38;5;124;43m'\u001b[39;49m\u001b[38;5;124;43mfoo\u001b[39;49m\u001b[38;5;124;43m'\u001b[39;49m\u001b[43m]\u001b[49m)\n",
      "\u001b[1;31mKeyError\u001b[0m: 'foo'"
     ]
    }
   ],
   "source": [
    "spam={'bar':100}\n",
    "print(spam['foo'])"
   ]
  },
  {
   "cell_type": "markdown",
   "id": "7a3d03f7",
   "metadata": {},
   "source": [
    "##### 5. If a dictionary is stored in spam, what is the difference between the expressions &#39;cat&#39; in spam and &#39;cat&#39; in spam.keys()?"
   ]
  },
  {
   "cell_type": "markdown",
   "id": "33242e6d",
   "metadata": {},
   "source": [
    "- There is no difference\n",
    "- If the 'cat' is in values it will be in spam.values()\n",
    "- If the 'cat is a key then it will be in spam.keys() and it is used to retrive value from dictionary"
   ]
  },
  {
   "cell_type": "markdown",
   "id": "2a95c21e",
   "metadata": {},
   "source": [
    "##### 6. If a dictionary is stored in spam, what is the difference between the expressions &#39;cat&#39; in spam and &#39;cat&#39; in spam.values()?"
   ]
  },
  {
   "cell_type": "markdown",
   "id": "8a7a14b0",
   "metadata": {},
   "source": [
    "- There is no difference\n",
    "- If the 'cat' is in values it will be in spam.values()\n",
    "- If the 'cat is a key then it will be in spam.keys() and it is used to retrive value from dictionary"
   ]
  },
  {
   "cell_type": "markdown",
   "id": "ce1d8313",
   "metadata": {},
   "source": [
    "##### 7. What is a shortcut for the following code? \n",
    "- if &#39;color&#39; not in spam: \n",
    "- spam[&#39;color&#39;] = &#39;black&#39;"
   ]
  },
  {
   "cell_type": "markdown",
   "id": "ce7f1c0b",
   "metadata": {},
   "source": [
    "- By using setdefault\n",
    "- It will defulty insert the key and element if it is not in the dictinary"
   ]
  },
  {
   "cell_type": "code",
   "execution_count": 13,
   "id": "b2913e1b",
   "metadata": {},
   "outputs": [
    {
     "name": "stdout",
     "output_type": "stream",
     "text": [
      "{'color': 'black'}\n"
     ]
    }
   ],
   "source": [
    "d={}\n",
    "d.setdefault('color','black')\n",
    "print(d)"
   ]
  },
  {
   "cell_type": "markdown",
   "id": "0c977c08",
   "metadata": {},
   "source": [
    "##### 8. How do you &quot;pretty print&quot; dictionary values using which module and function?"
   ]
  },
  {
   "cell_type": "markdown",
   "id": "3555f04d",
   "metadata": {},
   "source": [
    "- module\n",
    "    - pprint\n",
    "    \n",
    "- function\n",
    "    - pprint()\n",
    "    \n",
    "- The format to print is\n",
    "```\n",
    "import pprint\n",
    "pprint.pprint()\n",
    "```"
   ]
  }
 ],
 "metadata": {
  "kernelspec": {
   "display_name": "Python 3 (ipykernel)",
   "language": "python",
   "name": "python3"
  },
  "language_info": {
   "codemirror_mode": {
    "name": "ipython",
    "version": 3
   },
   "file_extension": ".py",
   "mimetype": "text/x-python",
   "name": "python",
   "nbconvert_exporter": "python",
   "pygments_lexer": "ipython3",
   "version": "3.9.12"
  }
 },
 "nbformat": 4,
 "nbformat_minor": 5
}
